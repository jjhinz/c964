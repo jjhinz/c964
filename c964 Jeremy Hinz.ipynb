{
 "cells": [
  {
   "cell_type": "markdown",
   "id": "5bda00d7",
   "metadata": {},
   "source": [
    "# C964 Capstone Project"
   ]
  },
  {
   "cell_type": "markdown",
   "id": "6490300a",
   "metadata": {},
   "source": [
    "Imports"
   ]
  },
  {
   "cell_type": "code",
   "execution_count": 1,
   "id": "95ada8a9",
   "metadata": {},
   "outputs": [],
   "source": [
    "import pandas as pd\n",
    "import numpy as np\n",
    "import matplotlib.pyplot as plt\n",
    "import sklearn\n",
    "import keras\n",
    "#from keras.layers import LSTM\n",
    "import watermark\n",
    "\n",
    "%matplotlib inline"
   ]
  },
  {
   "cell_type": "markdown",
   "id": "f713b2f3",
   "metadata": {},
   "source": [
    "Training and testing data"
   ]
  },
  {
   "cell_type": "code",
   "execution_count": 5,
   "id": "8b660240",
   "metadata": {},
   "outputs": [],
   "source": [
    "train_data = pd.read_csv('train.csv')\n",
    "test_data = pd.read_csv('test.csv')"
   ]
  },
  {
   "cell_type": "code",
   "execution_count": 8,
   "id": "facbad12",
   "metadata": {},
   "outputs": [],
   "source": [
    "###gets the total number of slaes for all stores and items for each day of the training data\n",
    "sales_daily = train_data.groupby('date', as_index=False)['sales'].sum\n",
    "\n",
    "### gets total sales by store for each day of training data\n",
    "sales_daily_store = train_data.groupby(['store', 'date'], as_index=False)['sales'].sum()\n",
    "\n",
    "### gets total sales of each item for each day of traing set\n",
    "sales_daily_item = train_data.groupby(['item', 'date'], as_index=False)['sales'].sum()\n"
   ]
  },
  {
   "cell_type": "code",
   "execution_count": 21,
   "id": "f4560c5a",
   "metadata": {},
   "outputs": [
    {
     "data": {
      "image/png": "[encoded data removed]",
      "text/plain": [
       "<Figure size 432x288 with 1 Axes>"
      ]
     },
     "metadata": {
      "needs_background": "light"
     },
     "output_type": "display_data"
    }
   ],
   "source": [
    "fig, ax = plt.subplots()\n",
    "ax.plot(sales_daily_store['date'],sales_daily_store['sales']);"
   ]
  },
  {
   "cell_type": "code",
   "execution_count": 3,
   "id": "9e747552",
   "metadata": {},
   "outputs": [],
   "source": [
    "def lstm_model(train_data, test_data):\n",
    "    \"\"\"Runs a long-short-term-memory nueral net with 2 dense layers. Generates\n",
    "    predictions that are then unscaled. Scores are printed and results are\n",
    "    plotted and saved.\n",
    "    Keyword arguments:\n",
    "    -- train_set: dataset used to train the model\n",
    "    -- test_set: dataset used to test the model\n",
    "    \"\"\"\n",
    "\n",
    "    # Split into X & y and scale data\n",
    "    X_train, y_train, X_test, y_test, scaler_object = scale_data(train_data, test_data)\n",
    "\n",
    "    X_train = X_train.reshape(X_train.shape[0], 1, X_train.shape[1])\n",
    "    X_test = X_test.reshape(X_test.shape[0], 1, X_test.shape[1])\n",
    "\n",
    "    # Build LSTM\n",
    "    model = Sequential()\n",
    "    model.add(LSTM(4, batch_input_shape=(1, X_train.shape[1], X_train.shape[2]), stateful=True))\n",
    "    model.add(Dense(1))\n",
    "    model.add(Dense(1))\n",
    "    model.compile(loss='mean_squared_error', optimizer='adam')\n",
    "    model.fit(X_train, y_train, epochs=200, batch_size=1, verbose=1, shuffle=False)\n",
    "    predictions = model.predict(X_test, batch_size=1)\n",
    "\n",
    "    # Undo scaling to compare predictions against original data\n",
    "    original_df = load_data('../data/monthly_data.csv')\n",
    "    unscaled = undo_scaling(predictions, X_test, scaler_object, lstm=True)\n",
    "    unscaled_df = predict_df(unscaled, original_df)\n",
    "\n",
    "    # print scores and plot results\n",
    "    get_scores(unscaled_df, original_df, 'LSTM')\n",
    "    plot_results(unscaled_df, original_df, 'LSTM')"
   ]
  },
  {
   "cell_type": "code",
   "execution_count": 4,
   "id": "d2227f00",
   "metadata": {},
   "outputs": [
    {
     "name": "stdout",
     "output_type": "stream",
     "text": [
      "The watermark extension is already loaded. To reload it, use:\n",
      "  %reload_ext watermark\n",
      "Python implementation: CPython\n",
      "Python version       : 3.9.7\n",
      "IPython version      : 7.29.0\n",
      "\n",
      "pandas    : 1.3.4\n",
      "numpy     : 1.21.2\n",
      "watermark : 2.3.0\n",
      "keras     : 2.6.0\n",
      "sklearn   : 1.0.1\n",
      "matplotlib: 3.5.0\n",
      "\n",
      "Compiler    : MSC v.1916 64 bit (AMD64)\n",
      "OS          : Windows\n",
      "Release     : 10\n",
      "Machine     : AMD64\n",
      "Processor   : AMD64 Family 23 Model 113 Stepping 0, AuthenticAMD\n",
      "CPU cores   : 32\n",
      "Architecture: 64bit\n",
      "\n",
      " \n",
      "Last updated: Thu May 19 2022 16:18:08Central Daylight Time\n",
      "\n"
     ]
    }
   ],
   "source": [
    "%load_ext watermark\n",
    "\n",
    "%watermark -v -m -p pandas,numpy,watermark,keras,sklearn,matplotlib\n",
    "\n",
    "print(\" \")\n",
    "%watermark -u -n -t -z"
   ]
  },
  {
   "cell_type": "code",
   "execution_count": null,
   "id": "6dcf78c4",
   "metadata": {},
   "outputs": [],
   "source": []
  }
 ],
 "metadata": {
  "kernelspec": {
   "display_name": "Python 3 (ipykernel)",
   "language": "python",
   "name": "python3"
  },
  "language_info": {
   "codemirror_mode": {
    "name": "ipython",
    "version": 3
   },
   "file_extension": ".py",
   "mimetype": "text/x-python",
   "name": "python",
   "nbconvert_exporter": "python",
   "pygments_lexer": "ipython3",
   "version": "3.9.7"
  }
 },
 "nbformat": 4,
 "nbformat_minor": 5
}
